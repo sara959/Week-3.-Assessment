{
 "cells": [
  {
   "cell_type": "code",
   "execution_count": 13,
   "id": "cae8df55",
   "metadata": {},
   "outputs": [],
   "source": [
    "users_list={}\n",
    "\n",
    "def customer_complaints():  \n",
    "    if User_List:\n",
    "        Name = input(\"Enter your name: \")\n",
    "        Date = input(\"Enter date in YYYY-MM-DD: \")\n",
    "        User_id = input(\"Enter your id number: \")\n",
    "        print(\"Welcome and Happy to See You:\",\"Name: \")\n",
    "        Complaints = input(\"Enter your complain: \")\n",
    "    if User_id in customer_complaints.keys() or Date in  customer_complaints.keys() or Name in customer_complaints.values(): \n",
    "        print(User_List)\n",
    "        print(\"======================================\")\n",
    "        print(\"Your Complain is submitted to our team successfully, follow your email for any update\")\n",
    "    else:\n",
    "        Name = input(\"Enter your name: \")\n",
    "        Date = input(\"Enter date in YYYY-MM-DD: \")\n",
    "        User_id = input(\"Enter your id number: \")\n",
    "        print(\"Welcome and Happy to See You:\",\"Name: \")\n",
    "        Complaints = input(\"Enter your complain: \")\n",
    "        print(\"=======================================\")\n",
    "        print(\"We already recorded your complaints on our system\", \"we contact with you \")\n",
    "    \n",
    "    for record in User_List.values():\n",
    "        if complaint in record.values():\n",
    "            print(\"The user complaint is \",complaint)\n",
    "            Customer_complaint(complaint) "
   ]
  },
  {
   "cell_type": "code",
   "execution_count": 18,
   "id": "de40e386",
   "metadata": {},
   "outputs": [
    {
     "name": "stdout",
     "output_type": "stream",
     "text": [
      "{\"data\":{\"translations\":[{\"translatedText\":\"¡Hola Mundo!\"}]}}\n"
     ]
    }
   ],
   "source": [
    "import requests\n",
    "\n",
    "url = \"https://google-translate1.p.rapidapi.com/language/translate/v2\"\n",
    "\n",
    "payload = \"q=Hello%2C%20world!&target=es&source=en\"\n",
    "headers = {\n",
    "    'content-type': \"application/x-www-form-urlencoded\",\n",
    "    'accept-encoding': \"application/gzip\",\n",
    "    'x-rapidapi-key': \"f67c7333fdmsh5a9dc6b213e9ac0p105e66jsn06699e794c8e\",\n",
    "    'x-rapidapi-host': \"google-translate1.p.rapidapi.com\"\n",
    "    }\n",
    "\n",
    "response = requests.request(\"POST\", url, data=payload, headers=headers)\n",
    "\n",
    "print(response.text)"
   ]
  },
  {
   "cell_type": "code",
   "execution_count": 19,
   "id": "1db69eba",
   "metadata": {},
   "outputs": [
    {
     "data": {
      "text/plain": [
       "'en'"
      ]
     },
     "execution_count": 19,
     "metadata": {},
     "output_type": "execute_result"
    }
   ],
   "source": [
    "import json\n",
    "\n",
    "complaints_json = json.loads('{\"data\":{\"detections\":[[{\"language\":\"en\",\"isReliable\":false,\"confidence\":0.8180167078971863}]]}}')\n",
    "complaints_json[\"data\"][\"detections\"][0][0][\"language\"]\n"
   ]
  },
  {
   "cell_type": "code",
   "execution_count": null,
   "id": "3abe5644",
   "metadata": {},
   "outputs": [],
   "source": []
  }
 ],
 "metadata": {
  "kernelspec": {
   "display_name": "Python 3",
   "language": "python",
   "name": "python3"
  },
  "language_info": {
   "codemirror_mode": {
    "name": "ipython",
    "version": 3
   },
   "file_extension": ".py",
   "mimetype": "text/x-python",
   "name": "python",
   "nbconvert_exporter": "python",
   "pygments_lexer": "ipython3",
   "version": "3.8.8"
  }
 },
 "nbformat": 4,
 "nbformat_minor": 5
}
